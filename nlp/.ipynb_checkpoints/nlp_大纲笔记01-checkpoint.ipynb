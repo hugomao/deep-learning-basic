{
 "cells": [
  {
   "cell_type": "markdown",
   "metadata": {},
   "source": [
    "怎么表示word? 用word vector,但是英文单词有13M之多，单纯用向量表示维度太高。因此替代方案诞生了：\n",
    "\n",
    "1). SVD Based Methods。\n",
    "\n",
    "遍历一个很大的数据集和统计词的共现计数矩阵$X$，然后对矩阵$X$ 进行SVD,分解得到 $USVT$。然后我们使用$U$的行来作为字典中所有词的词向量。"
   ]
  },
  {
   "cell_type": "markdown",
   "metadata": {},
   "source": [
    "建立矩阵的方法： \n",
    "1. Word-Document Matrix。词-文档矩阵，简单来说就是每个单词在每个文档中出现的次数作为element。维度为V*D\n",
    "\n",
    "2. Window based Co-occurrence Matrix。 我们统计每个单词出现在一个在该词附近的指定窗口中次数。 维度为V*V"
   ]
  },
  {
   "cell_type": "markdown",
   "metadata": {},
   "source": [
    "2). word2vec. \n",
    "尝试创建一个能够一次学习一个迭代，并最终能够对给定上下文的单词的概率进行编码的模型，而不是计算和保留一个巨大的数据集的全局信息（可能含有数亿个句子）。\n",
    "\n",
    "这个想法是设计一个模型，该模型的参数就是词向量。在每次模型的迭代，计算误差，并遵循一些更新规则，该规则具有惩罚造成错误的模型参数的作用，从而可以学习到词向量。这个方法成为误差“反向传播”，这个方法使得训练模型的速度更快。"
   ]
  },
  {
   "cell_type": "markdown",
   "metadata": {},
   "source": [
    "两个算法：continuous bag-of-words（CBOW）和 skip-gram. CBOW 是根据中心词周围的上下文单词来预测该词的词向量。skip-gram相反，是根据中心词预测周围上下文的词的概率分布。\n",
    "\n",
    "两个训练方法 negative sampling 和 hierarchical softmax。Negativesampling 通过抽取负例来定义目标，hierarchical softmax 使用一个有效的树结构来计算所有词的概率来定义目标。"
   ]
  },
  {
   "cell_type": "markdown",
   "metadata": {},
   "source": [
    "对于word2vec的详解，请参照：http://blog.csdn.net/itplus/article/details/37998797"
   ]
  },
  {
   "cell_type": "code",
   "execution_count": null,
   "metadata": {
    "collapsed": true
   },
   "outputs": [],
   "source": []
  }
 ],
 "metadata": {
  "kernelspec": {
   "display_name": "Python 2",
   "language": "python",
   "name": "python2"
  },
  "language_info": {
   "codemirror_mode": {
    "name": "ipython",
    "version": 2
   },
   "file_extension": ".py",
   "mimetype": "text/x-python",
   "name": "python",
   "nbconvert_exporter": "python",
   "pygments_lexer": "ipython2",
   "version": "2.7.13"
  }
 },
 "nbformat": 4,
 "nbformat_minor": 2
}
